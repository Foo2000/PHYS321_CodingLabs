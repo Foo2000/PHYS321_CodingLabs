{
 "cells": [
  {
   "cell_type": "markdown",
   "metadata": {},
   "source": [
    "# PHYS 321 Coding Lab #6: Bayesian Model Selection with the Hulse-Taylor Binary"
   ]
  },
  {
   "cell_type": "markdown",
   "metadata": {},
   "source": [
    "In this Coding Lab, we use data from the Hulse-Taylor binary system to get more familiar with the concepts of marginalization and Bayesian model selection."
   ]
  },
  {
   "cell_type": "code",
   "execution_count": 1,
   "metadata": {},
   "outputs": [],
   "source": [
    "import numpy as np"
   ]
  },
  {
   "cell_type": "markdown",
   "metadata": {},
   "source": [
    "## Background"
   ]
  },
  {
   "cell_type": "markdown",
   "metadata": {},
   "source": [
    "Recall that the Hulse-Taylor binary system is a binary system consisting of two neutron stars, one of which is a pulsar:\n",
    "\n",
    "<div>\n",
    "<img src=\"images/binpulse.gif\" width=\"400\">\n",
    "</div>\n",
    "\n",
    "As the pulsar rotates about its own axis, radio emission is emitted in beams, and when these beams intersect the Earth, we get a brief \"pulse\" at our radio telescope. The extreme regularity of these pulses means that pulsars function as extremely good clocks. This makes the binary system a great laboratory for relativity. In relativity we often think about how hypothetical clocks behave; with a pulsar, Nature has provided us with an actual clock that has regular \"ticks\" (the pulses) that we can measure!"
   ]
  },
  {
   "cell_type": "markdown",
   "metadata": {},
   "source": [
    "In particular, General Relativity (GR) predicts that under the right conditions, accelerating masses emit gravtiational waves. This is analogous to the way in which accelerating electric charges emit electromagnetic waves. (One just needs to be careful about what the \"right conditions\" are. In electromagnetism, we require a time-dependent [dipole moment](https://en.wikipedia.org/wiki/Dipole) of electric charges to produce electromagnetic radiation. In GR, we require a time-dependent [quadrupole moment](https://en.wikipedia.org/wiki/Quadrupole) of masses to produce gravtiational radiation).\n",
    "\n",
    "A binary system like the Hulse-Taylor binary slowly loses energy by emitting it in the form of gravitational waves. As this happens, the two neutron stars come closer and closer. But this also implies (via Kepler's 3rd Law) that the period of the orbit decreases over time. GR predicts that the period of the binary $P_b$ changes at the rate\n",
    "\n",
    "\\begin{equation}\n",
    "\\dot{P}_b = - \\frac{192 \\pi G^{\\frac{5}{3}}}{5 c^5} \\left( \\frac{P_b}{2\\pi}\\right)^{\\frac{5}{3}} \\left( 1+ \\frac{73}{24} e^2 + \\frac{37}{96} e^4 \\right) \\left(1-e^2 \\right)^{-\\frac{7}{2}} \\frac{m_p m_c}{(m_p+m_c)^{-1/3}}\n",
    "\\end{equation}\n",
    "\n",
    "where $m_p$ is the mass of the pulsar, $m_c$ is the mass of the companion, and $e$ is the [eccentricity](https://en.wikipedia.org/wiki/Eccentricity_(mathematics)) of the orbit (which quantifies how elliptical the orbit is).\n",
    "\n",
    "This quantity is tiny. Plugging in some recent values on the right hand side of this equation gives:\n",
    "\n",
    "\\begin{equation}\n",
    "\\dot{P}_b = -2.402531 \\pm 0.000014 \\times 10^{-12}\n",
    "\\end{equation}\n",
    "\n",
    "Despite how tiny this effect is, pulsar observations are so precise that this is easily measurable!"
   ]
  },
  {
   "cell_type": "markdown",
   "metadata": {},
   "source": [
    "Here's one view of the results, taken from [Weisberg, Nice, Taylor (2010)](https://iopscience.iop.org/article/10.1088/0004-637X/722/2/1030). What's shown here is what's called the \"cumulative shift of periastron time\". The periastron of the binary orbit is the point of the orbit where the two stars are the closest together. Because of the decay of the orbit from gravitational wave emission, the orbit reaches periastron earlier and earlier with every orbit. Over time, this effect accumulates compared to if there wasn't any gravitational wave emission, and that's what the plot shows:\n",
    "\n",
    "\n",
    "<div>\n",
    "<img src=\"images/HT.png\" width=\"400\">\n",
    "</div>\n",
    "\n",
    "One of the remarkable things here is that the solid line labelled \"General Relativity prediction\" is __not__ a direct fit to the points on this plot. Instead, Hulse and Taylor used the detailed pulsar observations to work out things like $m_p$, $m_c$, and $e$, and plugged those numbers into the GR formulae and predicted the curve. Amazing how perfectly GR passes this experimental test! Prior to LIGO's results, the Hulse-Taylor binary was our best evidence for the existence of gravitational waves."
   ]
  },
  {
   "cell_type": "markdown",
   "metadata": {},
   "source": [
    "## Fitting the data and model selection"
   ]
  },
  {
   "cell_type": "markdown",
   "metadata": {},
   "source": [
    "We're going to do things a little bit differently than the way Weisberg, Nice, and Taylor did. We're going to do a Bayesian fit to the plot above. In the repo you will find ``HT.dat``, where we have the data points from the plot. The first column contains the year, the second the values on the vertical axis, and the third column contains the error bars"
   ]
  },
  {
   "cell_type": "markdown",
   "metadata": {},
   "source": [
    "__Exercise__: Write some code to read in the data. Recenter the time coordinates assuming that observations started in $1973$ (i.e., make it so that if there were a datapoint at $1973$, our data would call that $t=0$). Convert all the times into sidereal days. (There are $366.242$ sidereal days per solar year, and there are $86164.1$ seconds in a sidereal day)."
   ]
  },
  {
   "cell_type": "markdown",
   "metadata": {},
   "source": [
    "What I'd like you to do is to put all of this (the reading in of the data and the conversions) into a function that lives in `tools.py`. Then, you can import the function by running the lines below."
   ]
  },
  {
   "cell_type": "code",
   "execution_count": 2,
   "metadata": {},
   "outputs": [],
   "source": [
    "import tools\n",
    "# These two lines tell your Jupyter notebook to reload\n",
    "# external modules/functions if they have been modified\n",
    "# This way you don't have to quit your kernel and import\n",
    "# everything again whenever you make a change!\n",
    "%load_ext autoreload\n",
    "%autoreload 2"
   ]
  },
  {
   "cell_type": "code",
   "execution_count": 3,
   "metadata": {},
   "outputs": [
    {
     "data": {
      "text/plain": [
       "array([[ 6.38037639e+02,  2.53523918e-06,  3.16904894e-06],\n",
       "       [ 7.01001880e+02,  7.21559088e-20,  2.53523915e-06],\n",
       "       [ 1.45657277e+03, -5.07047835e-06,  1.90142937e-06],\n",
       "       [ 1.67694761e+03, -1.26761959e-06,  1.90142937e-06],\n",
       "       [ 1.80287609e+03, -7.60571753e-06,  1.26761958e-06],\n",
       "       [ 1.92880457e+03, -5.07047835e-06,  1.26761958e-06],\n",
       "       [ 1.99176881e+03, -7.60571753e-06,  1.26761958e-06],\n",
       "       [ 2.11769730e+03, -7.60571753e-06,  6.33809789e-07],\n",
       "       [ 2.30659002e+03, -1.01409567e-05,  6.33809789e-07],\n",
       "       [ 2.58992910e+03, -1.52114351e-05,  1.26761958e-06],\n",
       "       [ 2.77882182e+03, -1.64790546e-05, -1.14897039e-03],\n",
       "       [ 2.99919666e+03, -2.02819134e-05, -1.14897039e-03],\n",
       "       [ 3.28253575e+03, -2.53523918e-05, -1.14897039e-03],\n",
       "       [ 3.50291059e+03, -3.04228701e-05, -1.14897039e-03],\n",
       "       [ 3.84921391e+03, -3.80285876e-05, -1.14897039e-03],\n",
       "       [ 4.19551724e+03, -4.69019248e-05, -1.14897039e-03],\n",
       "       [ 4.57330268e+03, -5.70428815e-05, -1.14897039e-03],\n",
       "       [ 5.20294509e+03, -7.73247949e-05, -1.14897039e-03],\n",
       "       [ 5.67517689e+03, -9.50714691e-05, -1.14897039e-03],\n",
       "       [ 6.08444446e+03, -1.10282904e-04, -1.14897039e-03],\n",
       "       [ 6.55667626e+03, -1.30564818e-04, -1.14897039e-03],\n",
       "       [ 7.06039019e+03, -1.53381970e-04, -1.14897039e-03],\n",
       "       [ 9.35858497e+03, -2.83946788e-04, -1.14897039e-03],\n",
       "       [ 9.73637042e+03, -3.06763940e-04, -1.14897039e-03],\n",
       "       [ 1.04919413e+04, -3.60003963e-04, -1.14897039e-03],\n",
       "       [ 1.11530658e+04, -4.09441127e-04, -1.14897039e-03],\n",
       "       [ 1.22864222e+04, -5.05780216e-04, -1.14897039e-03]])"
      ]
     },
     "execution_count": 3,
     "metadata": {},
     "output_type": "execute_result"
    }
   ],
   "source": [
    "## Your code here\n",
    "\n",
    "# read the data\n",
    "HT_data = np.genfromtxt('HT.dat',delimiter=',').T\n",
    "# recenter the time coordinates assuming that observations started in  1973\n",
    "HT_data[0] = HT_data[0] - 1973\n",
    "# convert solar year into sidereal days\n",
    "HT_data[0] = HT_data[0] * 366.242\n",
    "# convert seconds into sidereal days\n",
    "HT_data[1] = HT_data[1] / 86164.1\n",
    "HT_data[2] = HT_data[2] / 86164.1\n",
    "# transpose HT_data\n",
    "HT_data = HT_data.T\n",
    "\n",
    "HT_data"
   ]
  },
  {
   "cell_type": "markdown",
   "metadata": {},
   "source": [
    "__Exercise:__ Write two unit tests for your function! You're welcome to create a new data file with fake data (perhaps calling it `test_data.dat` or something) to help you with this. We'll look in `test_tools.py` for your testing code, but write a brief couple of sentences below describing what your tests are meant to do."
   ]
  },
  {
   "cell_type": "markdown",
   "metadata": {},
   "source": [
    "## Your answer here\n",
    "\n"
   ]
  },
  {
   "cell_type": "markdown",
   "metadata": {},
   "source": [
    "(You may be alarmed that some of the errors seem to be negative! They're not really negative. I'll explain a little later)"
   ]
  },
  {
   "cell_type": "markdown",
   "metadata": {},
   "source": [
    "Let $d(t)$ be the cumulative shift of the periastron time. We'll consider two different models:\n",
    "\n",
    "\\begin{eqnarray}\n",
    "\\mathcal{M}_1: && d(t) = \\alpha t \\\\\n",
    "\\mathcal{M}_2: && d(t) = \\alpha t + \\beta t^2\n",
    "\\end{eqnarray}\n",
    "\n",
    "Our goal will be to fit the data using these two models, and then to compute the Bayesian evidence in order to decide which model is appropriate for the data."
   ]
  },
  {
   "cell_type": "markdown",
   "metadata": {},
   "source": [
    "As always, our starting point is Bayes' theorem. In this context, we have\n",
    "\n",
    "\\begin{equation}\n",
    "p \\left(\\alpha | \\mathbf{d}, \\mathcal{M}_1 \\right) = \\frac{p(\\mathbf{d}|\\alpha, \\mathcal{M}_1  )p(\\alpha| \\mathcal{M}_1 )}{p(\\mathbf{d}| \\mathcal{M}_1)}\n",
    "\\end{equation}\n",
    "and\n",
    "\\begin{equation}\n",
    "p \\left(\\alpha, \\beta | \\mathbf{d}, \\mathcal{M}_2 \\right) = \\frac{p(\\mathbf{d}|\\alpha, \\beta, \\mathcal{M}_2  )p(\\alpha, \\beta| \\mathcal{M}_2 )}{p(\\mathbf{d}| \\mathcal{M}_2)}\n",
    "\\end{equation}\n",
    "\n",
    "where for notational brevity, I have defined a data vector $\\mathbf{d} \\equiv \\left[ d(t_1), d(t_2), \\dots \\right]$. Working out these posterior probability distributions is equivalent to fitting the data, because once we have the posteriors, we know what the data is telling us about the parameters in the two equations."
   ]
  },
  {
   "cell_type": "markdown",
   "metadata": {},
   "source": [
    "From lecture, we know that the key to model selection is to compare the evidences of the two models, i.e., $p(\\mathbf{d} | \\mathcal{M}_1)$ and $p(\\mathbf{d} | \\mathcal{M}_2)$. In particular, the ratio of the probabilities of the different models being correct (given the data) is given by\n",
    "\n",
    "\\begin{equation}\n",
    "\\frac{p(\\mathcal{M}_1 | \\mathbf{d})}{p(\\mathcal{M}_2 | \\mathbf{d})} = \\frac{p(\\mathbf{d} | \\mathcal{M}_1)}{p(\\mathbf{d} | \\mathcal{M}_2)} \\frac{p(\\mathcal{M}_1 )}{p(\\mathcal{M}_2 )},\n",
    "\\end{equation}\n",
    "so as long as we don't have any theoretical reasons to favour one model over the other (i.e., the second ratio on the right hand side is one), the ratio of the evidences is what we need to compute.\n",
    "\n",
    "If we look back at Bayes' theorem, we see that the functional dependence of the posterior on our model parameters (i.e., $\\alpha$ and $\\beta$) resides entirely in the numerators. The evidence is therefore just the normalization factor for our posterior, so we can compute it by integrating:\n",
    "\n",
    "\\begin{eqnarray}\n",
    "p(\\mathbf{d} | \\mathcal{M}_1) &=& \\int p(\\mathbf{d}|\\alpha, \\mathcal{M}_1  )p(\\alpha| \\mathcal{M}_1 ) d\\alpha  \\\\\n",
    "p(\\mathbf{d} | \\mathcal{M}_2) &=& \\int p(\\mathbf{d}|\\alpha, \\beta, \\mathcal{M}_2  )p(\\alpha, \\beta| \\mathcal{M}_2 ) d\\alpha d\\beta\n",
    "\\end{eqnarray}"
   ]
  },
  {
   "cell_type": "markdown",
   "metadata": {},
   "source": [
    "### Fitting the data"
   ]
  },
  {
   "cell_type": "markdown",
   "metadata": {},
   "source": [
    "First, though, we need to fit the data. And to do that, we need to decide on what our likelihood is going to look like. We'll assume that the measurement errors are independent. This means that the probability distribution of all the data points is equal to the product of the individual data points:\n",
    "\n",
    "\\begin{equation}\n",
    "p(\\mathbf{d} | \\alpha, \\mathcal{M}_1) = \\prod_i p(d(t_i) | \\alpha, \\mathcal{M}_1) \n",
    "\\end{equation}\n",
    "\n",
    "(Henceforth I will just write out the equations for $\\mathcal{M}_1$, the idea being that you can generalize to $\\mathcal{M}_2$ on your own).\n",
    "\n",
    "Next, we need to write down the likelihood function for an individual data point, $p(d(t_i) | \\alpha, \\mathcal{M}_1)$. Let's assume that the measurement errors are Gaussian. This means\n",
    "\n",
    "\\begin{equation}\n",
    "p(d(t_i) | \\alpha, \\mathcal{M}_1) = \\frac{1}{\\sqrt{2 \\pi \\sigma_i^2}} \\exp\\left[-\\frac{\\left[d(t_i) - d_{\\mathcal{M}_1}(\\alpha, t_i)\\right]^2}{2 \\sigma_i^2}\\right],\n",
    "\\end{equation}\n",
    "\n",
    "where $d_{\\mathcal{M}_1}(\\alpha, t) = \\alpha t$ as per our $\\mathcal{M}_1$ model. The quantity $\\sigma_i$ is the error bar on the data point at time $t_i$.\n",
    "\n",
    "But here, we run into a problem! If you look at the data, you'll see that we have error bars only on the first $10$ data points. After that, the \"errors\" are negative, which is just my way of indicating to you that we don't have those error bars. What should we do? It turns out, amazingly, that as long as we make some assumptions, we can also fit for these errors using the data!"
   ]
  },
  {
   "cell_type": "markdown",
   "metadata": {},
   "source": [
    "In this case, the assumption that we will make is that the rest of the data points have some sort of fixed percentage error. That is, for data points where we don't have documented errors, we model the errors as\n",
    "\n",
    "\\begin{equation}\n",
    "\\sigma_i^\\textrm{missing} = 10^\\varepsilon \\times d_{\\mathcal{M}_1}(\\alpha, t_i),\n",
    "\\end{equation}\n",
    "\n",
    "where $\\varepsilon$ is a parameter that controls the order of magnitude of our percentage error. For example, if $\\varepsilon = -1$, then we are assigning $10\\%$ errors to our data points. What value do we use for $\\varepsilon$? The beauty of this is that we don't have to decide! We can introduce it as a new parameter in our model; it is an example of a __*nuisance*__ parameter that is necessary for us to fit the data, but isn't of ultimate scientific interest. Our likelihood function now looks like:\n",
    "\n",
    "\\begin{equation}\n",
    "p(\\mathbf{d} | \\alpha, \\varepsilon, \\mathcal{M}_1) = \\left( \\prod_{i=1}^{10} \\frac{\\exp\\left[-\\frac{\\left[d(t_i) - d_{\\mathcal{M}_1}(\\alpha, t_i)\\right]^2}{2 \\sigma_i^2}\\right]}{\\sqrt{2 \\pi \\sigma_i^2}}  \\right) \\left( \\prod_{i\\ge 11} \\frac{\\exp\\left[-\\frac{\\left[d(t_i) - d_{\\mathcal{M}_1}(\\alpha, t_i)\\right]^2}{2 \\cdot 10^{2\\varepsilon} [d_{\\mathcal{M}_1}(\\alpha, t_i)]^2}\\right]}{\\sqrt{2 \\pi 10^{2\\varepsilon} [d_{\\mathcal{M}_1}(\\alpha, t_i)]^2} }  \\right),\n",
    "\\end{equation}\n",
    "\n",
    "and our posterior now contains one more parameter than before:\n",
    "\n",
    "\\begin{equation}\n",
    "p \\left(\\alpha, \\varepsilon | \\mathbf{d}, \\mathcal{M}_1 \\right) \\propto p(\\mathbf{d}|\\alpha, \\varepsilon, \\mathcal{M}_1  )p(\\alpha, \\varepsilon| \\mathcal{M}_1 )\n",
    "\\end{equation}"
   ]
  },
  {
   "cell_type": "markdown",
   "metadata": {},
   "source": [
    "__Exercise__: Compute the posteriors for the two models, $p \\left(\\alpha, \\varepsilon | \\mathbf{d}, \\mathcal{M}_1 \\right)$ and $p \\left(\\alpha, \\beta, \\varepsilon | \\mathbf{d}, \\mathcal{M}_2 \\right)$. That is, for $\\mathcal{M}_1$ you should end up with a two-dimensional array (one axis representing $\\alpha$ and the other representing $\\varepsilon$), and for $\\mathcal{M}_2$ you should end up with a three-dimensional array. Use the following priors:\n",
    "\n",
    "For $\\mathcal{M}_1$:\n",
    "* For $\\alpha$, use a uniform prior between $-5 \\times 10^{-8}$ and $- 10^{-11}$\n",
    "* For $\\varepsilon$, use a uniform prior between $-10$ and $1$.\n",
    "\n",
    "\n",
    "For $\\mathcal{M}_2$:\n",
    "* For $\\alpha$, use a uniform prior between $3 \\times 10^{-9}$ and $6 \\times 10^{-9}$\n",
    "* For $\\beta$, use a uniform prior between $-4.25 \\times 10^{-12}$ and $-3 \\times 10^{-12}$\n",
    "* For $\\varepsilon$, use a uniform prior between $-10$ and $1$.\n",
    "\n",
    "Some hints:\n",
    "1. Since the priors are uniform priors, they can be easily implemented by just defining the bounds of your ``np.linspace`` to be the edge of the priors, and then multiplying by an appropriate constant factor to make sure that your priors are properly normalized.\n",
    "2. Try not to use nested loops in coding this up. Refer to the Search & Rescue notebook to see how it is possible to do all of this without any nested loops (i.e., one loop is ok; one loop within another is not advisable).\n",
    "3. Try to factor out things where possible. For example, since the product of two exponentials is equal to the exponential of their sum, it is possible to do this exercise such that ``np.exp`` is used only once for each model. Doing this will considerably speed up your code, because exponentials are expensive to evaluate numerically.\n",
    "4. For debugging purposes, I like to invoke ``np.linspace`` with a different ``num`` argument for each of my axes. That way, it's obvious from looking at the shapes of arrays whether or not two axes have been mixed up."
   ]
  },
  {
   "cell_type": "code",
   "execution_count": 4,
   "metadata": {},
   "outputs": [
    {
     "data": {
      "text/plain": [
       "array([[0.00000000e+000, 0.00000000e+000, 0.00000000e+000, ...,\n",
       "        0.00000000e+000, 0.00000000e+000, 0.00000000e+000],\n",
       "       [0.00000000e+000, 0.00000000e+000, 0.00000000e+000, ...,\n",
       "        0.00000000e+000, 0.00000000e+000, 0.00000000e+000],\n",
       "       [0.00000000e+000, 0.00000000e+000, 0.00000000e+000, ...,\n",
       "        0.00000000e+000, 0.00000000e+000, 0.00000000e+000],\n",
       "       ...,\n",
       "       [0.00000000e+000, 0.00000000e+000, 0.00000000e+000, ...,\n",
       "        1.49771833e-083, 2.03558845e-191, 0.00000000e+000],\n",
       "       [0.00000000e+000, 0.00000000e+000, 0.00000000e+000, ...,\n",
       "        2.06330481e-072, 4.19569087e-148, 0.00000000e+000],\n",
       "       [0.00000000e+000, 0.00000000e+000, 0.00000000e+000, ...,\n",
       "        4.73759474e-066, 1.58215354e-121, 0.00000000e+000]])"
      ]
     },
     "execution_count": 4,
     "metadata": {},
     "output_type": "execute_result"
    }
   ],
   "source": [
    "## Your code here\n",
    "\n",
    "import matplotlib.pyplot as plt\n",
    "from scipy.stats import norm\n",
    "# defined the likelihood for normal distribution\n",
    "def likelihood_normal(x, mean, std):\n",
    "    return norm.pdf(x, mean, std)\n",
    "N = len(HT_data)\n",
    "\n",
    "# calculate the posterior for M1\n",
    "def M1 (alpha, t):\n",
    "    return alpha * t\n",
    "# define the ranges for the parameters\n",
    "alpha_range = np.linspace(-5e-8,-10e-11,100)\n",
    "epsilon_range = np.linspace(-10,1,110)\n",
    "# make the 2D space\n",
    "alpha = np.array([alpha_range]*len(epsilon_range))\n",
    "epsilon = np.array([epsilon_range]*len(alpha_range)).transpose()\n",
    "# define the L as an matrix of likelihood values, all equal to one initially\n",
    "L = np.full(shape=(len(epsilon_range), len(alpha_range)), fill_value=1.)\n",
    "for i in range(N):\n",
    "    # multiply L by the likelihood at the i_th data point\n",
    "    if HT_data[i][2] < 0:\n",
    "        std = np.absolute(np.array(10**epsilon*M1(alpha, HT_data[i][0])))\n",
    "    else:\n",
    "        std = HT_data[i][2]\n",
    "    L = L * likelihood_normal(M1(alpha, HT_data[i][0]), HT_data[i][1], std)\n",
    "    # assuming a multivariate uniform prior distribution for mean and variance\n",
    "    prior_pdf = 1 / (max(alpha_range)-min(alpha_range)) / (max(epsilon_range)-min(epsilon_range))\n",
    "    # normalize and calculate the current posterior\n",
    "    normalization_factor_posterior_M1 = np.sum((L * prior_pdf) * 5e-10 * 0.1)\n",
    "    M1_posterior = L * prior_pdf / normalization_factor_posterior_M1\n",
    "    \n",
    "M1_posterior"
   ]
  },
  {
   "cell_type": "code",
   "execution_count": 5,
   "metadata": {},
   "outputs": [
    {
     "data": {
      "text/plain": [
       "array([[[0.00000000e+000, 0.00000000e+000, 0.00000000e+000, ...,\n",
       "         0.00000000e+000, 0.00000000e+000, 0.00000000e+000],\n",
       "        [0.00000000e+000, 0.00000000e+000, 0.00000000e+000, ...,\n",
       "         0.00000000e+000, 0.00000000e+000, 0.00000000e+000],\n",
       "        [0.00000000e+000, 0.00000000e+000, 0.00000000e+000, ...,\n",
       "         0.00000000e+000, 0.00000000e+000, 0.00000000e+000],\n",
       "        ...,\n",
       "        [0.00000000e+000, 0.00000000e+000, 0.00000000e+000, ...,\n",
       "         0.00000000e+000, 0.00000000e+000, 0.00000000e+000],\n",
       "        [0.00000000e+000, 0.00000000e+000, 0.00000000e+000, ...,\n",
       "         0.00000000e+000, 0.00000000e+000, 0.00000000e+000],\n",
       "        [0.00000000e+000, 0.00000000e+000, 0.00000000e+000, ...,\n",
       "         0.00000000e+000, 0.00000000e+000, 0.00000000e+000]],\n",
       "\n",
       "       [[0.00000000e+000, 0.00000000e+000, 0.00000000e+000, ...,\n",
       "         0.00000000e+000, 0.00000000e+000, 0.00000000e+000],\n",
       "        [0.00000000e+000, 0.00000000e+000, 0.00000000e+000, ...,\n",
       "         0.00000000e+000, 0.00000000e+000, 0.00000000e+000],\n",
       "        [0.00000000e+000, 0.00000000e+000, 0.00000000e+000, ...,\n",
       "         0.00000000e+000, 0.00000000e+000, 0.00000000e+000],\n",
       "        ...,\n",
       "        [0.00000000e+000, 0.00000000e+000, 0.00000000e+000, ...,\n",
       "         0.00000000e+000, 0.00000000e+000, 0.00000000e+000],\n",
       "        [0.00000000e+000, 0.00000000e+000, 0.00000000e+000, ...,\n",
       "         0.00000000e+000, 0.00000000e+000, 0.00000000e+000],\n",
       "        [0.00000000e+000, 0.00000000e+000, 0.00000000e+000, ...,\n",
       "         0.00000000e+000, 0.00000000e+000, 0.00000000e+000]],\n",
       "\n",
       "       [[0.00000000e+000, 0.00000000e+000, 0.00000000e+000, ...,\n",
       "         0.00000000e+000, 0.00000000e+000, 0.00000000e+000],\n",
       "        [0.00000000e+000, 0.00000000e+000, 0.00000000e+000, ...,\n",
       "         0.00000000e+000, 0.00000000e+000, 0.00000000e+000],\n",
       "        [0.00000000e+000, 0.00000000e+000, 0.00000000e+000, ...,\n",
       "         0.00000000e+000, 0.00000000e+000, 0.00000000e+000],\n",
       "        ...,\n",
       "        [0.00000000e+000, 0.00000000e+000, 0.00000000e+000, ...,\n",
       "         0.00000000e+000, 0.00000000e+000, 0.00000000e+000],\n",
       "        [0.00000000e+000, 0.00000000e+000, 0.00000000e+000, ...,\n",
       "         0.00000000e+000, 0.00000000e+000, 0.00000000e+000],\n",
       "        [0.00000000e+000, 0.00000000e+000, 0.00000000e+000, ...,\n",
       "         0.00000000e+000, 0.00000000e+000, 0.00000000e+000]],\n",
       "\n",
       "       ...,\n",
       "\n",
       "       [[7.08246450e-066, 8.38603910e-065, 9.59956082e-064, ...,\n",
       "         4.46692568e-030, 1.99719026e-030, 8.63320281e-031],\n",
       "        [7.09727760e-065, 8.15023815e-064, 9.04838353e-063, ...,\n",
       "         2.30446698e-030, 9.99345534e-031, 4.18989467e-031],\n",
       "        [6.91565684e-064, 7.70226199e-063, 8.29326469e-062, ...,\n",
       "         1.15614209e-030, 4.86285762e-031, 1.97749136e-031],\n",
       "        ...,\n",
       "        [2.59398449e-025, 1.58498466e-025, 9.36354517e-026, ...,\n",
       "         3.82318088e-114, 8.94543807e-116, 2.02407143e-117],\n",
       "        [1.73381293e-025, 1.02759864e-025, 5.88847774e-026, ...,\n",
       "         1.34386824e-115, 3.05085682e-117, 6.69786517e-119],\n",
       "        [1.12714622e-025, 6.47986882e-026, 3.60172947e-026, ...,\n",
       "         4.59639924e-117, 1.01245133e-118, 2.15666147e-120]],\n",
       "\n",
       "       [[1.36914090e-067, 1.62106002e-066, 1.85554755e-065, ...,\n",
       "         8.60291255e-032, 3.84635796e-032, 1.66263179e-032],\n",
       "        [1.37187226e-066, 1.57532706e-065, 1.74883979e-064, ...,\n",
       "         4.43802950e-032, 1.92455111e-032, 8.06884490e-033],\n",
       "        [1.33663757e-065, 1.48859704e-064, 1.60273996e-063, ...,\n",
       "         2.22645975e-032, 9.36461407e-033, 3.80809737e-033],\n",
       "        ...,\n",
       "        [5.00428475e-027, 3.05794938e-027, 1.80666279e-027, ...,\n",
       "         7.63650479e-116, 1.78876851e-117, 4.05207974e-119],\n",
       "        [3.34538944e-027, 1.98289729e-027, 1.13635229e-027, ...,\n",
       "         2.68868354e-117, 6.11096648e-119, 1.34322074e-120],\n",
       "        [2.17519347e-027, 1.25059824e-027, 6.95180678e-028, ...,\n",
       "         9.21181815e-119, 2.03156351e-120, 4.33297045e-122]],\n",
       "\n",
       "       [[2.64253343e-069, 3.12865674e-068, 3.58110790e-067, ...,\n",
       "         1.65651602e-033, 7.40620512e-034, 3.20138768e-034],\n",
       "        [2.64764480e-068, 3.04020805e-067, 3.37496400e-066, ...,\n",
       "         8.54534464e-034, 3.70565622e-034, 1.55361563e-034],\n",
       "        [2.57948819e-067, 2.87265589e-066, 3.09283051e-065, ...,\n",
       "         4.28690792e-034, 1.80308358e-034, 7.33214343e-035],\n",
       "        ...,\n",
       "        [9.64618839e-029, 5.89472078e-029, 3.48281075e-029, ...,\n",
       "         1.50450139e-117, 3.52659357e-119, 7.99453420e-121],\n",
       "        [6.44917657e-029, 3.82276912e-029, 2.19084543e-029, ...,\n",
       "         5.30256209e-119, 1.20607222e-120, 2.65301282e-122],\n",
       "        [4.19373960e-029, 2.41125269e-029, 1.34043141e-029, ...,\n",
       "         1.81869248e-120, 4.01399160e-122, 8.56792734e-124]]])"
      ]
     },
     "execution_count": 5,
     "metadata": {},
     "output_type": "execute_result"
    }
   ],
   "source": [
    "# calculate the posterior for M2\n",
    "def M2 (alpha,beta,t):\n",
    "    return alpha * t + beta * t**2\n",
    "# define the ranges for the parameters\n",
    "alpha_range = np.linspace(3e-9,6e-9,100)\n",
    "beta_range = np.linspace(-4.25e-12,-3e-12,100)\n",
    "epsilon_range = np.linspace(-10,1,110)\n",
    "# make the 3D space\n",
    "alpha = np.array([[alpha_range]*len(beta_range)]*len(epsilon_range))\n",
    "beta = np.array([np.array([beta_range]*len(alpha_range)).transpose()]*len(epsilon_range))\n",
    "epsilon = np.repeat(epsilon_range, len(alpha_range)*len(beta_range)).reshape(len(epsilon_range), len(beta_range), len(alpha_range))\n",
    "# define the L as an matrix of likelihood values, all equal to one initially\n",
    "L = np.full(shape=(len(epsilon_range), len(beta_range), len(alpha_range)), fill_value=1.)\n",
    "for i in range(N):\n",
    "    # multiply L by the likelihood at the i_th data point\n",
    "    if HT_data[i][2] < 0:\n",
    "        std = np.absolute(np.array(10**epsilon*M2(alpha,beta,HT_data[i][0])))\n",
    "    else:\n",
    "        std = HT_data[i][2]\n",
    "    L = L * likelihood_normal(M2(alpha,beta,HT_data[i][0]), HT_data[i][1], std)\n",
    "    # assuming a multivariate uniform prior distribution for mean and variance\n",
    "    prior_pdf = 1 / (max(alpha_range)-min(alpha_range)) / (max(epsilon_range)-min(epsilon_range))\n",
    "    # normalize and calculate the current posterior\n",
    "    normalization_factor_posterior_M2 = np.sum((L * prior_pdf) * 3e-11 * 1.25e-14 * 0.1)\n",
    "    M2_posterior = L * prior_pdf / normalization_factor_posterior_M2\n",
    "    \n",
    "M2_posterior"
   ]
  },
  {
   "cell_type": "markdown",
   "metadata": {},
   "source": [
    "Now we want to visualize our results. It's very hard to visualize a 3D array, so we will want to marginalize over some of our variables. For example, if I am only interested the posterior distribution of $\\varepsilon$, then I integrate over all the other parameters. For $\\mathcal{M}_1$, this becomes\n",
    "\n",
    "\\begin{equation}\n",
    "p \\left(\\varepsilon | \\mathbf{d}, \\mathcal{M}_1 \\right) = \\int p \\left(\\alpha, \\varepsilon | \\mathbf{d}, \\mathcal{M}_1 \\right) d\\alpha\n",
    "\\end{equation}"
   ]
  },
  {
   "cell_type": "markdown",
   "metadata": {},
   "source": [
    "__Exercise__: Plot the marginalized distributions for $\\varepsilon$ for both $\\mathcal{M}_1$ and $\\mathcal{M}_2$. There's no need to do a fancy numerical integral---it's sufficient to simply sum up the arrays along appropriate axes and to multiply by the appropriate differential elements like $d\\alpha$ (or some $\\Delta \\alpha$, since this is a discrete numerical approximation)."
   ]
  },
  {
   "cell_type": "code",
   "execution_count": 6,
   "metadata": {},
   "outputs": [
    {
     "data": {
      "image/png": "[encoded data removed]",
      "text/plain": [
       "<Figure size 432x288 with 1 Axes>"
      ]
     },
     "metadata": {
      "needs_background": "light"
     },
     "output_type": "display_data"
    }
   ],
   "source": [
    "## Your code here\n",
    "\n",
    "marginal_epsilon_M1 = M1_posterior.sum(axis=1)* 5e-10\n",
    "marginal_epsilon_M2 = M2_posterior.sum(axis=1).sum(axis=1)* 3e-11 * 1.25e-14\n",
    "\n",
    "plt.plot(epsilon_range,marginal_epsilon_M1,'r',label='M1')\n",
    "plt.plot(epsilon_range,marginal_epsilon_M2,'b',label='M2')\n",
    "plt.xlabel(r\"$\\epsilon$\")\n",
    "plt.ylabel(r\"$p(\\epsilon|d,M_i)$\")\n",
    "plt.title(r\"The marginalized distributions of $p(\\epsilon|d,M_i)$\")\n",
    "plt.legend(loc='best')\n",
    "plt.show()"
   ]
  },
  {
   "cell_type": "markdown",
   "metadata": {},
   "source": [
    "You should find that the data really does prefer a particular value for $\\varepsilon$, so it's possible to get a sense for the error bars from the data! This may seem like magic---how can we figure out the error bars with no error information to begin with? What's really happening is that our analysis is using the scatter of our data points. Imagine I gave you a bunch of points with no error bars and asked you to fit a straight line through them. You could probably look at the distance between your best-fit line and the data points and roughly guess how big the error bars are. This is essentially what's going on here, in a more statistically disciplined fashion. In general, it's best if you have accurately estimated error bars from your measurements that you can just use. But this is a handy trick if you're in a pinch. Another interesting technique is to multiply all parameters with some parameter $\\eta$, such that $\\sigma_i \\rightarrow \\eta \\sigma_i$. This new parameter is now another free parameter in our fitting exercise. If the posterior is peaked around $\\eta \\approx 1$, then the errors have been correctly estimated. If $\\eta > 1$, the errors have been underestimated."
   ]
  },
  {
   "cell_type": "markdown",
   "metadata": {},
   "source": [
    "__Question__: Compare $p \\left(\\varepsilon | \\mathbf{d}, \\mathcal{M}_1 \\right)$ and $p \\left(\\varepsilon | \\mathbf{d}, \\mathcal{M}_2 \\right)$. Why do you think this is? (Hint: look at the data. Just from eyeballing the results, do you think $\\mathcal{M}_1$ is likely to be a good model? It may also help to do the next two questions before answering this)"
   ]
  },
  {
   "cell_type": "markdown",
   "metadata": {},
   "source": [
    "## Your answer here\n",
    "\n",
    "As shown in the plot, the peak for $p(\\epsilon | d, M_2)$ is near $\\epsilon = -2$, whereas the peak for $p(\\epsilon | d, M_1)$ is near $\\epsilon = 1$. This shows the error bars for $M_2$ are very likely to be 1000 times smaller than the error bars for $M_1$. This means that fiitting the data using $M_1$ will cause much larger error that $M_2$. Therefore, $M_1$ is not likely to be a good model compared to $M_2$."
   ]
  },
  {
   "cell_type": "markdown",
   "metadata": {},
   "source": [
    "Ultimately, $\\varepsilon$ is a nuisance parameter, so while it's interesting to look at to help us understand the data, what we really care about are parameters like $\\alpha$ and $\\beta$."
   ]
  },
  {
   "cell_type": "markdown",
   "metadata": {},
   "source": [
    "__Exercise__: Marginalize over $\\varepsilon$ to compute $p \\left(\\alpha, \\beta | \\mathbf{d}, \\mathcal{M}_2 \\right)$. Make a contour plot of your results. Are the best-fit values of $\\alpha$ and $\\beta$ correlated with one another?"
   ]
  },
  {
   "cell_type": "code",
   "execution_count": 7,
   "metadata": {},
   "outputs": [
    {
     "data": {
      "image/png": "[encoded data removed]",
      "text/plain": [
       "<Figure size 432x288 with 1 Axes>"
      ]
     },
     "metadata": {
      "needs_background": "light"
     },
     "output_type": "display_data"
    },
    {
     "name": "stdout",
     "output_type": "stream",
     "text": [
      "The best-fit values of alpha and beta are correlated with one another.\n"
     ]
    }
   ],
   "source": [
    "## Your code/answer here\n",
    "\n",
    "marginal_alpha_beta_M2 = M2_posterior.sum(axis=0)* 0.1\n",
    "\n",
    "plt.contourf(alpha_range,beta_range, marginal_alpha_beta_M2)\n",
    "plt.xlabel(r\"$\\alpha$\")\n",
    "plt.ylabel(r\"$\\beta$\")\n",
    "plt.title(r\"The marginalized distributions of $p(\\alpha,\\beta|d,M_i)$\")\n",
    "plt.show()\n",
    "\n",
    "print(\"The best-fit values of alpha and beta are correlated with one another.\")"
   ]
  },
  {
   "cell_type": "markdown",
   "metadata": {},
   "source": [
    "__Exercise__: Find the values for $\\alpha$, $\\beta$, and $\\varepsilon$ that maximize the posterior for the two models (these values are known as MAP or \"maximum *a posteriori*\" values). Use these values to plot your best-fit curves, as well as the original data points and their error bars (now that you have them for every point)."
   ]
  },
  {
   "cell_type": "code",
   "execution_count": 8,
   "metadata": {},
   "outputs": [
    {
     "name": "stdout",
     "output_type": "stream",
     "text": [
      "alpha_M1 = 6e-09\n",
      "epsilon_M1 = 0.6972477064220186\n",
      "alpha_M2 = 4.333333333333333e-09\n",
      "beta_M2 = -3.694444444444444e-12\n",
      "epsilon_M2 = -2.330275229357798\n"
     ]
    }
   ],
   "source": [
    "## Your code here\n",
    "\n",
    "#Find the MAP alpha, beta, epsilon values\n",
    "\n",
    "#For the M1 posterior \n",
    "\n",
    "marginal_alpha_beta_M1 = M1_posterior* 0.1\n",
    "M1_maxi = 0 \n",
    "M1_maxi_i = 0\n",
    "M1_maxi_j = 0\n",
    "for i in range(len(alpha_range)):\n",
    "    for j in range(len(beta_range)):\n",
    "        if (marginal_alpha_beta_M1[j][i]>M1_maxi):\n",
    "            M1_maxi_j=j\n",
    "            M1_maxi_i=i\n",
    "            M1_maxi = marginal_alpha_beta_M2[j][i]\n",
    "            \n",
    "print('alpha_M1 =', alpha_range[M1_maxi_j])\n",
    "\n",
    "\n",
    "M1_maxi = 0\n",
    "M2_maxi_i = 0\n",
    "for i in range(len(epsilon_range)):\n",
    "    if (marginal_epsilon_M1[i]>M1_maxi):\n",
    "        M1_maxi_i=i\n",
    "        M1_maxi = marginal_epsilon_M1[i]\n",
    "           \n",
    "print('epsilon_M1 =', epsilon_range[M1_maxi_i])\n",
    "\n",
    "#For the M2 posterior \n",
    "\n",
    "M2_maxi = 0 \n",
    "M2_maxi_i = 0\n",
    "M2_maxi_j = 0\n",
    "for i in range(len(alpha_range)):\n",
    "    for j in range(len(beta_range)):\n",
    "        if (marginal_alpha_beta_M2[j][i]>M2_maxi):\n",
    "            M2_maxi_j=j\n",
    "            M2_maxi_i=i\n",
    "            M2_maxi = marginal_alpha_beta_M2[j][i]\n",
    "\n",
    "print('alpha_M2 =', alpha_range[M2_maxi_j])\n",
    "print('beta_M2 =', beta_range[M2_maxi_i]) \n",
    "\n",
    "M2_maxi= 0\n",
    "M2_maxi_i= 0\n",
    "for i in range(len(epsilon_range)):\n",
    "    if (marginal_epsilon_M2[i] > M2_maxi):\n",
    "        M2_maxi_i=i\n",
    "        M2_maxi = marginal_epsilon_M2[i]\n",
    "          \n",
    "print('epsilon_M2 =', epsilon_range[M2_maxi_i])"
   ]
  },
  {
   "cell_type": "code",
   "execution_count": 9,
   "metadata": {},
   "outputs": [
    {
     "data": {
      "image/png": "[encoded data removed]",
      "text/plain": [
       "<Figure size 432x288 with 1 Axes>"
      ]
     },
     "metadata": {
      "needs_background": "light"
     },
     "output_type": "display_data"
    }
   ],
   "source": [
    "#Plot Best fit curves:\n",
    "#M_1(t): d(t) = alpha*t\n",
    "#M_2(t): d(t) = alpha*t+beta*t**2\n",
    "t=np.linspace(0,17000, 1000)\n",
    "plt.plot(t, alpha_range[M1_maxi_j]*t, 'r',label='M1')\n",
    "plt.plot(t, alpha_range[M2_maxi_j]*t+beta_range[M2_maxi_i]*t**2, 'b',label='M2')\n",
    "plt.xlabel(\"time in sidereal days since 1975\")\n",
    "plt.ylabel(\"d(t), the cumulative shift of the periastron time\")\n",
    "plt.title(\"The best fit given by each model\")\n",
    "plt.legend(loc='best')\n",
    "plt.show()"
   ]
  },
  {
   "cell_type": "code",
   "execution_count": 10,
   "metadata": {},
   "outputs": [
    {
     "data": {
      "image/png": "[encoded data removed]",
      "text/plain": [
       "<Figure size 432x288 with 1 Axes>"
      ]
     },
     "metadata": {
      "needs_background": "light"
     },
     "output_type": "display_data"
    }
   ],
   "source": [
    "#Plot of original data with errors:\n",
    "x=[0]*len(HT_data)\n",
    "y=[0]*len(HT_data)\n",
    "err=[0]*len(HT_data)\n",
    "err_M1=[0]*len(HT_data)\n",
    "err_M2=[0]*len(HT_data)\n",
    "for i in range(len(HT_data)):\n",
    "    x[i]=HT_data[i][0]\n",
    "    y[i]=HT_data[i][1]\n",
    "    err[i]=HT_data[i][2]\n",
    "    err_M1[i]=HT_data[i][2]\n",
    "    if (err[i]<0):\n",
    "        err_M1[i]=10**(epsilon_range[M1_maxi_i])*y[i]\n",
    "        err_M2[i]=10**epsilon_range[M2_maxi_i]*y[i]\n",
    "plt.plot(x, y, 'r')\n",
    "plt.xlabel(\"time in sidereal days since 1975\")\n",
    "plt.ylabel(\"d(t), the cumulative shift of the periastron time\")\n",
    "plt.title(\"Plot of the original data with the error bars given by $\\epsilon$ of M1\")\n",
    "plt.errorbar(x, y, err_M1)\n",
    "plt.show()"
   ]
  },
  {
   "cell_type": "code",
   "execution_count": 11,
   "metadata": {},
   "outputs": [
    {
     "data": {
      "image/png": "[encoded data removed]",
      "text/plain": [
       "<Figure size 432x288 with 1 Axes>"
      ]
     },
     "metadata": {
      "needs_background": "light"
     },
     "output_type": "display_data"
    }
   ],
   "source": [
    "plt.plot(x, y, 'r')\n",
    "plt.xlabel(\"time in sidereal days since 1975\")\n",
    "plt.ylabel(\"d(t), the cumulative shift of the periastron time\")\n",
    "plt.title(\"Plot of the original data with the error bars given by $\\epsilon$ of M2\")\n",
    "plt.errorbar(x, y, err_M2, marker='o')\n",
    "plt.show()"
   ]
  },
  {
   "cell_type": "markdown",
   "metadata": {},
   "source": [
    "### Model selection"
   ]
  },
  {
   "cell_type": "markdown",
   "metadata": {},
   "source": [
    "Let's now compute the Bayesian evidences to help us decide on an appropriate model."
   ]
  },
  {
   "cell_type": "markdown",
   "metadata": {},
   "source": [
    "__Exercise__: Compute $p(\\mathbf{d} | \\mathcal{M}_1)$ and $p(\\mathbf{d} | \\mathcal{M}_2)$. If you make use of intermediate results you had from before, this should just be a matter of doing a numerical integral over an array you already have. (As before, though, there's no need to use a fancy numerical integration technique. Riemann sums are fine)."
   ]
  },
  {
   "cell_type": "code",
   "execution_count": 12,
   "metadata": {},
   "outputs": [
    {
     "name": "stdout",
     "output_type": "stream",
     "text": [
      "p(d|M_1) is 1.153831520407747e+100\n",
      "p(d|M_2) is 5.018833384606954e+131\n"
     ]
    }
   ],
   "source": [
    "## Your code here\n",
    "\n",
    "# the last normalization factor for each posterior is actually the evidence p(d|M)\n",
    "p_d_M1 = normalization_factor_posterior_M1\n",
    "p_d_M2 = normalization_factor_posterior_M2\n",
    "\n",
    "print(\"p(d|M_1) is\",p_d_M1)\n",
    "print(\"p(d|M_2) is\",p_d_M2)"
   ]
  },
  {
   "cell_type": "markdown",
   "metadata": {},
   "source": [
    "How lopsided do the evidences need to be in order for one to favour one model over another? There's no hard and fast rule, but everyone seems to quote the (arbitrary) rules of thumb written by [Kass & Raftery (1995)](https://www.stat.washington.edu/raftery/Research/PDF/kass1995.pdf), who suggest the following:\n",
    "\n",
    "|  $\\frac{p(\\mathbf{d} | \\mathcal{M}_2)}{p(\\mathbf{d} | \\mathcal{M}_1)}$  | Evidence against $\\mathcal{M}_1$  |\n",
    "|---|---|\n",
    "| 1 to 3.2  |  Not worth more than a bare mention |\n",
    "|  3.2 to 10 | Substantial  |\n",
    "|  10 to 100 |  Strong |\n",
    "|  > 100 |  Decisive |\n"
   ]
  },
  {
   "cell_type": "markdown",
   "metadata": {},
   "source": [
    "__Question__: Which model is favoured?"
   ]
  },
  {
   "cell_type": "code",
   "execution_count": 13,
   "metadata": {},
   "outputs": [
    {
     "name": "stdout",
     "output_type": "stream",
     "text": [
      "Since the p(d|M_2)/p(d|M_1) ratio 4.349710764387311e+31 >> 100, the evidence against M_1 is Decisive.\n"
     ]
    }
   ],
   "source": [
    "## Your code here\n",
    "\n",
    "ratio = p_d_M2/p_d_M1\n",
    "print(\"Since the p(d|M_2)/p(d|M_1) ratio\", ratio, \">> 100, the evidence against M_1 is Decisive.\")"
   ]
  },
  {
   "cell_type": "markdown",
   "metadata": {},
   "source": [
    "## Discussion"
   ]
  },
  {
   "cell_type": "markdown",
   "metadata": {},
   "source": [
    "In completing this exercise, you probably found that with a reasonably fine ``np.linspace`` grid, it took a little time for your code to run. This problem gets worse and worse as we include more and more parameters in our model because of what's known as \"the curse of dimensionality\". For example, if we have two parameters $\\alpha$ and $\\beta$ and we want to evaluate the posterior on a grid with $100$ points along the $\\alpha$ axis and $100$ points along the $\\beta$ axis, we end up having to evaluate $N = 100^2$ points. But if we had a $12$ free parameters, we would need to evaluate $N = 100^{12}$ points! This is not very practical from a computational standpoint. Next lecture we will begin learning about __*Markov Chain Monte Carlo*__ techniques that allow us to bypass this problem."
   ]
  },
  {
   "cell_type": "markdown",
   "metadata": {},
   "source": [
    "## Submitting your work"
   ]
  },
  {
   "cell_type": "markdown",
   "metadata": {},
   "source": [
    "Don't forget to push a copy of your completed notebook to your Github repo for marking!"
   ]
  },
  {
   "cell_type": "code",
   "execution_count": null,
   "metadata": {},
   "outputs": [],
   "source": []
  }
 ],
 "metadata": {
  "kernelspec": {
   "display_name": "Python 3",
   "language": "python",
   "name": "python3"
  },
  "language_info": {
   "codemirror_mode": {
    "name": "ipython",
    "version": 3
   },
   "file_extension": ".py",
   "mimetype": "text/x-python",
   "name": "python",
   "nbconvert_exporter": "python",
   "pygments_lexer": "ipython3",
   "version": "3.8.5"
  }
 },
 "nbformat": 4,
 "nbformat_minor": 4
}
