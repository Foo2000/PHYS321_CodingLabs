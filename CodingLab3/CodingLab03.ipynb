{
 "cells": [
  {
   "cell_type": "markdown",
   "metadata": {},
   "source": [
    "# Surface Brightness Fluctuation Simulation"
   ]
  },
  {
   "cell_type": "code",
   "execution_count": 6,
   "metadata": {
    "collapsed": true
   },
   "outputs": [],
   "source": [
    "import matplotlib.pyplot as plt\n",
    "import numpy as np\n",
    "from sklearn import datasets, linear_model\n",
    "from sklearn.metrics import mean_squared_error, r2_score"
   ]
  },
  {
   "cell_type": "code",
   "execution_count": 7,
   "metadata": {
    "collapsed": true
   },
   "outputs": [],
   "source": [
    "# increase the obsearving distance by 2 by increasing the pixel area by 4\n",
    "def increase_distance(galaxy):# galaxy array must be of size 2^n * 2^n\n",
    "    num_pixel=int(len(galaxy)/2)# number of new pixel areas on one side\n",
    "    T=[]\n",
    "    for counter_i in range(num_pixel):\n",
    "        for counter_j in range(num_pixel):\n",
    "            i = 2 * counter_i\n",
    "            j = 2 * counter_j\n",
    "            #form new pixel from average of four pixels taking into account brightness reduction due to increased distance\n",
    "            #divide each pixel's brightness by 4 because brightness follows an inverse square law (b=L/(4*pi*r**2)\n",
    "            pixel = (galaxy[i][j]/4+galaxy[i+1][j]/4+galaxy[i][j+1]/4+galaxy[i+1][j+1]/4)/4\n",
    "            T.append(pixel)\n",
    "        \n",
    "    T=np.reshape(np.array(T), (num_pixel, num_pixel))\n",
    "    return T,np.std(T)"
   ]
  },
  {
   "cell_type": "code",
   "execution_count": 8,
   "metadata": {
    "collapsed": true
   },
   "outputs": [],
   "source": [
    "def get_stds(galaxy):\n",
    "    \n",
    "    num_dist = int(np.log(len(galaxy))/np.log(2))\n",
    "    \n",
    "    T=[]\n",
    "    D=[]\n",
    "    \n",
    "    dist = 1  \n",
    "    T.append(np.std(galaxy))\n",
    "    D.append(dist)\n",
    "    \n",
    "    for y in range(num_dist):\n",
    "        galaxy,std = increase_distance(galaxy)\n",
    "        dist = dist * 2\n",
    "        T.append(std)\n",
    "        D.append(dist)\n",
    "        \n",
    "    inverse_dist = [ 1/d for d in D]\n",
    "    \n",
    "    print(T)\n",
    "    print(inverse_dist)\n",
    "    \n",
    "    return T,inverse_dist"
   ]
  },
  {
   "cell_type": "code",
   "execution_count": 9,
   "metadata": {},
   "outputs": [
    {
     "name": "stdout",
     "output_type": "stream",
     "text": [
      "[0.2912871636298744, 0.1483798076695222, 0.07467087843088194, 0.036955594060549476, 0.015668707719134006, 0.00476743236107757, 0.0]\n",
      "[1.0, 0.5, 0.25, 0.125, 0.0625, 0.03125, 0.015625]\n"
     ]
    }
   ],
   "source": [
    "# the initial galaxy array of size 64 * 64, i.e. the galaxy observed in nearest distance\n",
    "some_galaxy = np.reshape(np.random.rand(4096),(64,64))\n",
    "\n",
    "x,y = get_stds(some_galaxy)"
   ]
  },
  {
   "cell_type": "markdown",
   "metadata": {},
   "source": [
    "# Investigating the linear relation using Linear Regression"
   ]
  },
  {
   "cell_type": "code",
   "execution_count": 11,
   "metadata": {},
   "outputs": [
    {
     "name": "stdout",
     "output_type": "stream",
     "text": [
      "Slope:  3.381179350202823\n",
      "Mean squared error:  6.080532256830707e-05\n",
      "Coefficient of determination:  0.9994477386432822\n"
     ]
    },
    {
     "data": {
      "image/png": "[encoded data removed]",
      "text/plain": [
       "<Figure size 432x288 with 1 Axes>"
      ]
     },
     "metadata": {},
     "output_type": "display_data"
    }
   ],
   "source": [
    "# Feature, 1/d\n",
    "x = np.reshape(x, (-1,1))\n",
    "# Label, variance\n",
    "y = y\n",
    "\n",
    "# Create a linear regression object\n",
    "regr = linear_model.LinearRegression()\n",
    "\n",
    "# Since the dataset is very small, we train and test on the whole set\n",
    "\n",
    "# Train the model\n",
    "regr.fit(x, y)\n",
    "\n",
    "# Make predictions\n",
    "y_pred = regr.predict(x)\n",
    "\n",
    "# The slope\n",
    "print('Slope: ', regr.coef_[0])\n",
    "\n",
    "# The mean squared error\n",
    "print('Mean squared error: ', mean_squared_error(y, y_pred))\n",
    "\n",
    "# The coefficient of determination: 1 is perfect prediction\n",
    "print('Coefficient of determination: ', r2_score(y, y_pred))\n",
    "\n",
    "# Plot outputs\n",
    "plt.scatter(x, y,  color='black', label='Data')\n",
    "#plt.plot(x, y_pred, 'r', label='Prediction',linewidth=3)\n",
    "plt.title(r\"$\\sigma$ v.s. $\\frac{1}{d}$\")\n",
    "plt.xlabel(r\"$\\frac{1}{d}$\")\n",
    "plt.ylabel(r\"$\\sigma$\")\n",
    "plt.legend(loc='upper right')\n",
    "plt.show()"
   ]
  },
  {
   "cell_type": "markdown",
   "metadata": {},
   "source": [
    "Since the mean squared error is quite low and the coefficient of determination is quite high, we can conclude that: $$\\sigma \\propto \\frac{1}{d}$$"
   ]
  },
  {
   "cell_type": "code",
   "execution_count": null,
   "metadata": {
    "collapsed": true
   },
   "outputs": [],
   "source": []
  }
 ],
 "metadata": {
  "kernelspec": {
   "display_name": "Python 3",
   "language": "python",
   "name": "python3"
  },
  "language_info": {
   "codemirror_mode": {
    "name": "ipython",
    "version": 3
   },
   "file_extension": ".py",
   "mimetype": "text/x-python",
   "name": "python",
   "nbconvert_exporter": "python",
   "pygments_lexer": "ipython3",
   "version": "3.6.3"
  }
 },
 "nbformat": 4,
 "nbformat_minor": 4
}
