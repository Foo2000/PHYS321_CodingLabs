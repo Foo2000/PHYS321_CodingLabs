{
 "cells": [
  {
   "cell_type": "markdown",
   "metadata": {},
   "source": [
    "# Surface Brightness Fluctuation Simulation"
   ]
  },
  {
   "cell_type": "code",
   "execution_count": 1,
   "metadata": {},
   "outputs": [],
   "source": [
    "import matplotlib.pyplot as plt\n",
    "import numpy as np\n",
    "from sklearn import datasets, linear_model\n",
    "from sklearn.metrics import mean_squared_error, r2_score"
   ]
  },
  {
   "cell_type": "code",
   "execution_count": 2,
   "metadata": {},
   "outputs": [],
   "source": [
    "# increase the observing distance by 2 times by increasing the pixel area by 4 times\n",
    "def increase_distance(galaxy):# note: galaxy array must be of size 2^n * 2^n for this code to work\n",
    "    num_pixel=int(len(galaxy)/2)# number of new pixel areas on one side\n",
    "    T=[]\n",
    "    for counter_i in range(num_pixel):\n",
    "        for counter_j in range(num_pixel):\n",
    "            #iterate over the new pixels (every 4 original pixels form a new pixel)\n",
    "            i = 2 * counter_i\n",
    "            j = 2 * counter_j\n",
    "            # each original pixel variable represents the observed brightness (flux)\n",
    "            # first, add the flux of each of the four pixels together, since the number of stars is increased by 4 times \n",
    "            # then, divide this sum by 4 because the flux follows an inverse square law with respect to the distance\n",
    "            # i.e. flux = f = L/(4*pi*d^2) and d is doubled, so that f_new = f_previous/(2^2)\n",
    "            pixel = (galaxy[i][j]+galaxy[i+1][j]+galaxy[i][j+1]+galaxy[i+1][j+1])/4\n",
    "            T.append(pixel)\n",
    "        \n",
    "    T = np.reshape(np.array(T), (num_pixel, num_pixel))\n",
    "    # returns an galaxy array with pixel area increased by 4 and the standard deviation over this array\n",
    "    return T, np.std(T)"
   ]
  },
  {
   "cell_type": "code",
   "execution_count": 3,
   "metadata": {},
   "outputs": [],
   "source": [
    "def get_stds(galaxy):\n",
    "    \n",
    "    # total number of different distances before reaching minimal number of pixels\n",
    "    num_dist = int(np.log(len(galaxy))/np.log(2))\n",
    "    \n",
    "    # define two empty arrays\n",
    "    stds=[]\n",
    "    inverse_dist=[]\n",
    "    \n",
    "    # initialize the distance from the planar galaxy array of pixels (more on this in the code description)\n",
    "    dist = 1\n",
    "    stds.append(np.std(galaxy))\n",
    "    inverse_dist.append(1/dist)\n",
    "    \n",
    "    # increase distance num_dist times and correspondingly update both arrays\n",
    "    for y in range(num_dist):\n",
    "        galaxy,std = increase_distance(galaxy)\n",
    "        dist = dist * 2\n",
    "        stds.append(std)\n",
    "        inverse_dist.append(1/dist)\n",
    "    \n",
    "    print(stds)\n",
    "    print(inverse_dist)\n",
    "    \n",
    "    return stds,inverse_dist"
   ]
  },
  {
   "cell_type": "code",
   "execution_count": 4,
   "metadata": {},
   "outputs": [
    {
     "name": "stdout",
     "output_type": "stream",
     "text": [
      "[0.28927831606604915, 0.14251871014306583, 0.06730319543388202, 0.03267248690298193, 0.01286253611000396, 0.004523525905233486, 0.0]\n",
      "[1.0, 0.5, 0.25, 0.125, 0.0625, 0.03125, 0.015625]\n"
     ]
    }
   ],
   "source": [
    "# the initial galaxy array of size 64 * 64, i.e. the galaxy observed in nearest distance\n",
    "some_galaxy = np.reshape(np.random.rand(4096),(64,64))\n",
    "\n",
    "x,y = get_stds(some_galaxy)"
   ]
  },
  {
   "cell_type": "markdown",
   "metadata": {},
   "source": [
    "# Investigating the linear relation using Linear Regression"
   ]
  },
  {
   "cell_type": "code",
   "execution_count": 5,
   "metadata": {},
   "outputs": [
    {
     "name": "stdout",
     "output_type": "stream",
     "text": [
      "Slope:  3.3993246514689184\n",
      "Mean squared error:  5.0667092224911875e-06\n",
      "Coefficient of determination:  0.9999539818622595\n"
     ]
    },
    {
     "data": {
      "image/png": "[encoded data removed]",
      "text/plain": [
       "<Figure size 432x288 with 1 Axes>"
      ]
     },
     "metadata": {
      "needs_background": "light"
     },
     "output_type": "display_data"
    }
   ],
   "source": [
    "# Feature, 1/d\n",
    "x = np.reshape(x, (-1,1))\n",
    "# Label, variance\n",
    "y = y\n",
    "\n",
    "# Create a linear regression object\n",
    "regr = linear_model.LinearRegression()\n",
    "\n",
    "# Since the dataset is very small, we train and test on the whole set\n",
    "\n",
    "# Train the model\n",
    "regr.fit(x, y)\n",
    "\n",
    "# Make predictions\n",
    "y_pred = regr.predict(x)\n",
    "\n",
    "# The slope\n",
    "print('Slope: ', regr.coef_[0])\n",
    "\n",
    "# The mean squared error\n",
    "print('Mean squared error: ', mean_squared_error(y, y_pred))\n",
    "\n",
    "# The coefficient of determination: 1 is perfect prediction\n",
    "print('Coefficient of determination: ', r2_score(y, y_pred))\n",
    "\n",
    "# Plot outputs\n",
    "plt.scatter(x, y,  color='black', label='Data')\n",
    "plt.plot(x, y_pred, 'r', label='Prediction',linewidth=3)\n",
    "plt.title(r\"$\\sigma$ v.s. $\\frac{1}{d}$\")\n",
    "plt.xlabel(r\"$\\frac{1}{d}$\")\n",
    "plt.ylabel(r\"$\\sigma$\")\n",
    "plt.legend(loc='upper right')\n",
    "plt.show()"
   ]
  },
  {
   "cell_type": "markdown",
   "metadata": {},
   "source": [
    "Since the mean squared error is quite low and the coefficient of determination is quite high, we can conclude that: $$\\sigma \\propto \\frac{1}{d}$$"
   ]
  },
  {
   "cell_type": "code",
   "execution_count": null,
   "metadata": {},
   "outputs": [],
   "source": []
  }
 ],
 "metadata": {
  "kernelspec": {
   "display_name": "Python 3",
   "language": "python",
   "name": "python3"
  },
  "language_info": {
   "codemirror_mode": {
    "name": "ipython",
    "version": 3
   },
   "file_extension": ".py",
   "mimetype": "text/x-python",
   "name": "python",
   "nbconvert_exporter": "python",
   "pygments_lexer": "ipython3",
   "version": "3.8.5"
  }
 },
 "nbformat": 4,
 "nbformat_minor": 4
}
