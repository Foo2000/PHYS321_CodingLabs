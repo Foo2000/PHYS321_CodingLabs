{
 "cells": [
  {
   "cell_type": "markdown",
   "metadata": {},
   "source": [
    "# Surface Brightness Fluctuation Simulation"
   ]
  },
  {
   "cell_type": "code",
   "execution_count": 38,
   "metadata": {
    "collapsed": true
   },
   "outputs": [],
   "source": [
    "import matplotlib.pyplot as plt\n",
    "import numpy as np\n",
    "from sklearn import datasets, linear_model\n",
    "from sklearn.metrics import mean_squared_error, r2_score"
   ]
  },
  {
   "cell_type": "code",
   "execution_count": 39,
   "metadata": {
    "collapsed": true
   },
   "outputs": [],
   "source": [
    "# increase the obsearving distance by increasing the pixel area by 4\n",
    "def increase_distance(galaxy):# note: galaxy array must be of size 2^n * 2^n for this code to work\n",
    "    num_pixel=int(len(galaxy)/2)# number of new pixel areas on one side\n",
    "    T=[]\n",
    "    for counter_i in range(num_pixel):\n",
    "        for counter_j in range(num_pixel):\n",
    "            #iterate over a quarter of the pixels starting at the far top left\n",
    "            i = 2 * counter_i\n",
    "            j = 2 * counter_j\n",
    "            #each original pixel variable represents the observed brightness (flux)\n",
    "            #we must add the brightnesses (flux) of each of the four pixels together and divide this sum by 4 because brightness follows an inverse square law \n",
    "            #brightness = f = L/(4*pi*d**2) and d is doubled i.e. f_new = f_previous/(2**2)\n",
    "            pixel = (galaxy[i][j]+galaxy[i+1][j]+galaxy[i][j+1]+galaxy[i+1][j+1])/4\n",
    "            T.append(pixel)\n",
    "        \n",
    "    T=np.reshape(np.array(T), (num_pixel, num_pixel))\n",
    "    #returns an array with pixel area increased by 4 and the standard deviation over this array  \n",
    "    return T,np.std(T)"
   ]
  },
  {
   "cell_type": "code",
   "execution_count": 40,
   "metadata": {
    "collapsed": true
   },
   "outputs": [],
   "source": [
    "def get_stds(galaxy):\n",
    "    \n",
    "    #total number of different distances before reaching minimal number of pixels (4) \n",
    "    num_dist = int(np.log(len(galaxy))/np.log(2))\n",
    "    \n",
    "    #define two empty arrays\n",
    "    stds=[]\n",
    "    inverse_dist=[]\n",
    "    \n",
    "    #initialize distance from the planar galaxy array of pixels dist (more on this in the code description)\n",
    "    dist = 1\n",
    "    stds.append(np.std(galaxy))\n",
    "    inverse_dist.append(1/dist)\n",
    "    \n",
    "    #increase distance num_dist times and append both arrays\n",
    "    for y in range(num_dist):\n",
    "        galaxy,std = increase_distance(galaxy)\n",
    "        dist = dist * 2\n",
    "        stds.append(std)\n",
    "        inverse_dist.append(1/dist)\n",
    "    \n",
    "    print(stds)\n",
    "    print(inverse_dist)\n",
    "    \n",
    "    return stds,inverse_dist"
   ]
  },
  {
   "cell_type": "code",
   "execution_count": 41,
   "metadata": {},
   "outputs": [
    {
     "name": "stdout",
     "output_type": "stream",
     "text": [
      "[0.2879856675439933, 0.1442959791597776, 0.07208423908200623, 0.03721463855079764, 0.019157724821081423, 0.008729800465916544, 0.0]\n",
      "[1.0, 0.5, 0.25, 0.125, 0.0625, 0.03125, 0.015625]\n"
     ]
    }
   ],
   "source": [
    "# the initial galaxy array of size 64 * 64, i.e. the galaxy observed in nearest distance\n",
    "some_galaxy = np.reshape(np.random.rand(4096),(64,64))\n",
    "\n",
    "x,y = get_stds(some_galaxy)"
   ]
  },
  {
   "cell_type": "markdown",
   "metadata": {},
   "source": [
    "# Investigating the linear relation using Linear Regression"
   ]
  },
  {
   "cell_type": "code",
   "execution_count": 42,
   "metadata": {},
   "outputs": [
    {
     "name": "stdout",
     "output_type": "stream",
     "text": [
      "Slope:  3.4574085738414793\n",
      "Mean squared error:  3.697950479140663e-05\n",
      "Coefficient of determination:  0.9996641354634059\n"
     ]
    },
    {
     "data": {
      "image/png": "[encoded data removed]",
      "text/plain": [
       "<Figure size 432x288 with 1 Axes>"
      ]
     },
     "metadata": {},
     "output_type": "display_data"
    }
   ],
   "source": [
    "# Feature, 1/d\n",
    "x = np.reshape(x, (-1,1))\n",
    "# Label, variance\n",
    "y = y\n",
    "\n",
    "# Create a linear regression object\n",
    "regr = linear_model.LinearRegression()\n",
    "\n",
    "# Since the dataset is very small, we train and test on the whole set\n",
    "\n",
    "# Train the model\n",
    "regr.fit(x, y)\n",
    "\n",
    "# Make predictions\n",
    "y_pred = regr.predict(x)\n",
    "\n",
    "# The slope\n",
    "print('Slope: ', regr.coef_[0])\n",
    "\n",
    "# The mean squared error\n",
    "print('Mean squared error: ', mean_squared_error(y, y_pred))\n",
    "\n",
    "# The coefficient of determination: 1 is perfect prediction\n",
    "print('Coefficient of determination: ', r2_score(y, y_pred))\n",
    "\n",
    "# Plot outputs\n",
    "plt.scatter(x, y,  color='black', label='Data')\n",
    "plt.plot(x, y_pred, 'r', label='Prediction',linewidth=3)\n",
    "plt.title(r\"$\\sigma$ v.s. $\\frac{1}{d}$\")\n",
    "plt.xlabel(r\"$\\frac{1}{d}$\")\n",
    "plt.ylabel(r\"$\\sigma$\")\n",
    "plt.legend(loc='upper right')\n",
    "plt.show()"
   ]
  },
  {
   "cell_type": "markdown",
   "metadata": {},
   "source": [
    "Since the mean squared error is quite low and the coefficient of determination is quite high, we can conclude that: $$\\sigma \\propto \\frac{1}{d}$$"
   ]
  },
  {
   "cell_type": "code",
   "execution_count": 10,
   "metadata": {
    "collapsed": true
   },
   "outputs": [],
   "source": []
  }
 ],
 "metadata": {
  "kernelspec": {
   "display_name": "Python 3",
   "language": "python",
   "name": "python3"
  },
  "language_info": {
   "codemirror_mode": {
    "name": "ipython",
    "version": 3
   },
   "file_extension": ".py",
   "mimetype": "text/x-python",
   "name": "python",
   "nbconvert_exporter": "python",
   "pygments_lexer": "ipython3",
   "version": "3.6.3"
  }
 },
 "nbformat": 4,
 "nbformat_minor": 4
}
