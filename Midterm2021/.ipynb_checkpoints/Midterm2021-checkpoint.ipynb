{
 "cells": [
  {
   "cell_type": "markdown",
   "metadata": {},
   "source": [
    "# PHYS 321 Midterm 2021"
   ]
  },
  {
   "cell_type": "markdown",
   "metadata": {},
   "source": [
    "This midterm exam is an open-book, open-resource exam. However, you may not collaborate with anyone. Please send clarification questions and hint requests to me at [adrian.liu@mcgill.ca](mailto:adrian.liu2@mcgill.ca). Submission is via Github (more details below). The exam is due at 11:59:59 Eastern on February 25th, 2020.\n",
    "\n",
    "You may copy and paste code from your previous assignments, but __you must cite your sources__. E.g., if you want to use a function that you wrote in Coding Lab 02, please include the comment \"this function was copied from Coding Lab 02\"\n",
    "\n",
    "For questions that are more algebraic or conceptual, you may either: 1) type your answer here, 2) do your work on paper and scan it, or 3) write up your answer in a separate pdf document. If you decide to go with option 2 or 3 on any particular question, be sure to let us know which document to look at. (Or with option 2 you can also embed the image file in the notebook itself)."
   ]
  },
  {
   "cell_type": "markdown",
   "metadata": {},
   "source": [
    "## Question 1"
   ]
  },
  {
   "cell_type": "markdown",
   "metadata": {},
   "source": [
    "Place all of the midterm files in a folder within your Github repo. Then:"
   ]
  },
  {
   "cell_type": "markdown",
   "metadata": {},
   "source": [
    "__a)__ Perform an initial commit locally and push to your Github repo. Write down the commands you used below."
   ]
  },
  {
   "cell_type": "markdown",
   "metadata": {},
   "source": [
    "## Your answer here\n",
    "\n",
    "git add Midterm2021\n",
    "\n",
    "git commit -m \"Initial commit for the midterm\"\n",
    "\n",
    "git push origin main"
   ]
  },
  {
   "cell_type": "markdown",
   "metadata": {},
   "source": [
    "__b)__ Create a file named ``secret_treasure.txt``. Commit it. Now create a new branch. Write down the commands that you used."
   ]
  },
  {
   "cell_type": "markdown",
   "metadata": {},
   "source": [
    "## Your answer here\n",
    "\n",
    "touch secret_treasure.txt\n",
    "\n",
    "git add secret_treasure.txt\n",
    "\n",
    "git commit -m \"Create the text file for the midterm Q1\"\n",
    "\n",
    "git checkout -b branch_for_Q1"
   ]
  },
  {
   "cell_type": "markdown",
   "metadata": {},
   "source": [
    "__c)__ Add the text ``I'm a Bayesian`` to the file in this new branch. In your old branch, add the text ``I'm a Frequentist``. Write down the commands that you used."
   ]
  },
  {
   "cell_type": "markdown",
   "metadata": {},
   "source": [
    "## Your answer here\n",
    "\n",
    "git add secret_treasure.txt\n",
    "\n",
    "git commit -m \"Add the text to the file in the new branch\"\n",
    "\n",
    "git checkout main\n",
    "\n",
    "git add secret_treasure.txt\n",
    "\n",
    "git commit -m \"Add the text to the file in the old branch\""
   ]
  },
  {
   "cell_type": "markdown",
   "metadata": {},
   "source": [
    "__d)__ Merge the changes from your new branch to your old branch. If you get a merge conflict, deal with it in whatever way you want. Write down the commands that you used."
   ]
  },
  {
   "cell_type": "markdown",
   "metadata": {},
   "source": [
    "## Your answer here\n",
    "\n",
    "git merge branch_for_Q1\n",
    "\n",
    "git add secret_treasure.txt\n",
    "\n",
    "git commit -m \"Merge the two branchs\""
   ]
  },
  {
   "cell_type": "markdown",
   "metadata": {},
   "source": [
    "Push your local changes to your Github repo to complete this problem."
   ]
  },
  {
   "cell_type": "markdown",
   "metadata": {},
   "source": [
    "## Question 2"
   ]
  },
  {
   "cell_type": "markdown",
   "metadata": {},
   "source": [
    "In Coding Lab 01, we discussed how the sidereal day is shorter than a solar day by 4 minutes. Is it possible for the sidereal day on some planet to be __longer__ than the solar day? Explain. If it's helpful, you may include a diagram of some sort."
   ]
  },
  {
   "cell_type": "markdown",
   "metadata": {},
   "source": [
    "## Your answer here\n",
    "\n",
    "It is possible for the sidereal day on some planet to be longer than the solar day if the planet spins backwards, i.e. from east to west. Let's assume the sun and a fixed star are both overhead on the planet. After one solar day, one will see the sun overhead again. However, since the planet is also revolving forwards around the sun, the planet moved less than a full circle after one solar day. In other words, the planet spins less than 360 degrees in the solar day. The same star will therefore not yet be directly overhead after one solar day, as it will only be directly overhead after $n \\times 360$ degree ($n \\in \\mathbb{N}$), i.e. n sidereal day. Therefore, the sidereal day is longer than the solar day on this planet.\n",
    "\n",
    "(The reasoning was copied and modified from Coding Lab 01)"
   ]
  },
  {
   "cell_type": "markdown",
   "metadata": {},
   "source": [
    "## Question 3"
   ]
  },
  {
   "cell_type": "markdown",
   "metadata": {},
   "source": [
    " Consider the following HR diagram:"
   ]
  },
  {
   "cell_type": "markdown",
   "metadata": {},
   "source": [
    "<div>\n",
    "<img src=\"HR_filled.png\" width=\"400\">\n",
    "</div>"
   ]
  },
  {
   "cell_type": "markdown",
   "metadata": {},
   "source": [
    " The $b$ colour is measured through a filter that permits light to pass through if it is within the wavelength range $300\\,\\textrm{nm} \\lesssim \\lambda \\lesssim 650\\,\\textrm{nm}$. The $r$ (``red\") filter allows light in the range $650\\,\\textrm{nm} \\lesssim \\lambda \\lesssim 1000\\,\\textrm{nm}$ to pass through. The $g$ filter covers both ranges."
   ]
  },
  {
   "cell_type": "markdown",
   "metadata": {},
   "source": [
    "__a)__ Which side (the left side or the right side) of the HR diagrams corresponds to bluer stars?"
   ]
  },
  {
   "cell_type": "markdown",
   "metadata": {},
   "source": [
    "## Your answer here\n",
    "\n",
    "The left side."
   ]
  },
  {
   "cell_type": "markdown",
   "metadata": {},
   "source": [
    "__b)__ Star $\\#1$ has a $(b-r)$ colour of 3.5, while Star $\\#2$ has a $(b-r)$ colour of 2. Which star has the higher luminosity? What is the ratio of their luminosities?"
   ]
  },
  {
   "cell_type": "markdown",
   "metadata": {},
   "source": [
    "## Your answer here\n",
    "\n",
    "According to the HR diagram, $M_1 = 10$ and $M_2 = 8$.\n",
    "\n",
    "$M_1 - M_2 = -2.5 \\times log_{10}(\\frac{F_1}{F_2}) \\approx -2.5 \\times log_{10}(\\frac{L_1}{L_2})$\n",
    "\n",
    "$\\frac{L_1}{L_2} = 10^{(M_1 - M_2)/(-2.5)} = 10^{(10 - 8)/(-2.5)} \\approx 0.158$\n",
    "\n",
    "Star \\#2 has the higher luminosity. The ratio is 0.158."
   ]
  },
  {
   "cell_type": "markdown",
   "metadata": {},
   "source": [
    "__c)__ Suppose you see a star with an apparent $g$-band magnitude of 8. The star has $(b-r)$ colour of $1$. How far away is this star?"
   ]
  },
  {
   "cell_type": "markdown",
   "metadata": {},
   "source": [
    "## Your answer here\n",
    "\n",
    "$m = 8$\n",
    "\n",
    "According to the HR diagram, $M = 5$\n",
    "\n",
    "$m - M = 5log_{10}(\\frac{d_L}{10pc})$\n",
    "\n",
    "$d_L = 10pc \\times 10^{(m - M) / 5} = 10pc \\times 10^{(8-5)/5} = 39.8pc$"
   ]
  },
  {
   "cell_type": "markdown",
   "metadata": {},
   "source": [
    "__d)__ In the previous part, were you computing an angular diameter distance or a luminosity distance? Suppose you had computed the other one instead. Would the answer have been very similar, or would it have been quite different?"
   ]
  },
  {
   "cell_type": "markdown",
   "metadata": {},
   "source": [
    "## Your answer here\n",
    "\n",
    "In the previous part, I am computing a luminosity distance.\n",
    "\n",
    "According to the equation $d_L(z) = (1 + z)^2d_A(z)$, the answer would have been very similar if the redshift $z$ is small, and it would have been quite different if the redshift $z$ is large."
   ]
  },
  {
   "cell_type": "markdown",
   "metadata": {},
   "source": [
    "__e)__ What is the redshift at which an object's angular diameter distance and its luminosity distance differ by $10\\%$? How old was our Universe when it emitted the light that we see today? How much smaller or larger was the universe back then compared to now?"
   ]
  },
  {
   "cell_type": "code",
   "execution_count": 1,
   "metadata": {},
   "outputs": [
    {
     "name": "stdout",
     "output_type": "stream",
     "text": [
      "The redshift at which an object's angular diameter distance and its luminosity distance differ by 10% is 0.04880884817015163\n",
      "Our universe was 13.117530106826866 Gyr old when it emitted the light that we see today.\n",
      "The universe was 0.04653741075440776 smaller back then compared to now.\n"
     ]
    }
   ],
   "source": [
    "## Your answer here\n",
    "\n",
    "import numpy as np\n",
    "from astropy.cosmology import Planck15\n",
    "# When (1+z)^2 = 1.1, z = sqrt(1.1) - 1\n",
    "z = np.sqrt(1.1)-1\n",
    "age = Planck15.age(z)\n",
    "ratio = 1 / (1 + z)\n",
    "\n",
    "print('The redshift at which an object\\'s angular diameter distance and its luminosity distance differ by 10% is', z)\n",
    "print('Our universe was', age,'old when it emitted the light that we see today.')\n",
    "print('The universe was', (1 - ratio), 'smaller back then compared to now.')"
   ]
  },
  {
   "cell_type": "markdown",
   "metadata": {},
   "source": [
    "## Question 4"
   ]
  },
  {
   "cell_type": "markdown",
   "metadata": {},
   "source": [
    "You and your friends are on holiday in southern California, where it doesn’t rain very much: 5 out of 365 days per year. You want to go to the beach tomorrow. Unfortunately, the weather forecast says that it will rain tomorrow. When it actually rains, the forecast is correct 90\\% of the time. When it doesn’t, there is a 10\\% chance that rain is incorrectly predicted by the forecast. What is the probability that it will rain tomorrow, knowing what the weather forecast says?"
   ]
  },
  {
   "cell_type": "code",
   "execution_count": 2,
   "metadata": {},
   "outputs": [
    {
     "name": "stdout",
     "output_type": "stream",
     "text": [
      "The probability is 0.1111111111111111\n"
     ]
    }
   ],
   "source": [
    "## Your answer here\n",
    "\n",
    "# Denote the random variable A to be the event that whether it will rain tomorrow\n",
    "# A = 1 means it will rain. \n",
    "# A = 0 means it will not rain\n",
    "# Denote the random variable B to be the event that whether the weather forecast says that it will rain tomorrow\n",
    "# B = 1 means the weather forecast says that it will rain. \n",
    "# B = 0 means the weather forecast says that it will not rain\n",
    "\n",
    "# P(A = 1)\n",
    "P_A1 = 5 / 365\n",
    "# P(A = 0)\n",
    "P_A0 = 1 - P_A1\n",
    "# P(B = 1 \\ A = 1)\n",
    "P_B1_A1 = 0.9\n",
    "# P(B = 1 \\ A = 0)\n",
    "P_B1_A0 = 0.1\n",
    "# P(B = 1) = P(B = 1 \\ A = 1) * P(A = 1) + P(B = 1 \\ A = 0) * P(A = 0)\n",
    "P_B1 = P_B1_A1 * P_A1 + P_B1_A0 * P_A0\n",
    "\n",
    "# By Bayes' theorem, P(A = 1 \\ B = 1) = P(B = 1 \\ A = 1) * P(A = 1) / P(B = 1)\n",
    "P_A1_B1 = (P_B1_A1 * P_A1) / P_B1\n",
    "\n",
    "print(\"The probability is\", P_A1_B1)"
   ]
  },
  {
   "cell_type": "markdown",
   "metadata": {},
   "source": [
    "## Question 5"
   ]
  },
  {
   "cell_type": "markdown",
   "metadata": {},
   "source": [
    "The probability distribution for the speed $v$ of a particle in an ideal gas is given by the _Maxwell-Boltzmann_ distribution:\n",
    "\n",
    "\\begin{equation}\n",
    "4 \\pi \\left(\\frac{m}{2 \\pi k_b T} \\right)^{3/2}  v^2 \\exp \\left( \\frac{-mv^2}{2 k_b T} \\right),\n",
    "\\end{equation}\n",
    "\n",
    "where $k_b$ is Boltzmann's constant, $m$ is the mass of an atom in the gas, and $T$ is the temperature. You can integrate this to confirm that it's correctly normalized if you like! (Incidentally, the wikipedia page on the Maxwell-Boltzmann distribution contains some typos, and a bunch of their expressions are incorrect)."
   ]
  },
  {
   "cell_type": "markdown",
   "metadata": {},
   "source": [
    "__a)__ Suppose we have an ideal gas in the lab. Let's assume that we know what type of gas we have, so the mass is known. To simplify matters, work in units where $m / k_b = 1$. You go into the lab and you make _one_ measurement of velocity (i.e., you measure the speed of _one_ atom). You get $v = 20$ (in our weird units).\n",
    "\n",
    "You'd like to know the temperature of the gas. Prof. Mxyptlk says \"the temperature measures the _average_ kinetic energy of a particle; therefore, with just a single speed measurement we can't know anything about the temperature\". Prove Prof. Mxyptlk wrong by inferring what you can about $T$, the temperature of the gas."
   ]
  },
  {
   "cell_type": "code",
   "execution_count": 3,
   "metadata": {},
   "outputs": [
    {
     "data": {
      "image/png": "[encoded data removed]",
      "text/plain": [
       "<Figure size 432x288 with 1 Axes>"
      ]
     },
     "metadata": {
      "needs_background": "light"
     },
     "output_type": "display_data"
    },
    {
     "name": "stdout",
     "output_type": "stream",
     "text": [
      "T can be inferred to have the probability density distribution as shown in the plot above.\n"
     ]
    }
   ],
   "source": [
    "## Your answer here\n",
    "\n",
    "# the code was copied and modified from Coding Lab 05\n",
    "import numpy as np\n",
    "import matplotlib.pyplot as plt\n",
    "\n",
    "# defined the likelihood for Maxwell-Boltzmann distribution\n",
    "def likelihood(v, T):\n",
    "    return 4 * np.pi * (1/(2 * np.pi * T))**(3/2) * v**2 * np.exp(-v**2 / (2 * T))\n",
    "\n",
    "T = np.linspace(1,3000,3000)\n",
    "\n",
    "# L is the likelihood of the data\n",
    "L = likelihood(20, T)\n",
    "# assuming a uniform prior distribution for T\n",
    "uniform_pdf = 1/(max(T)-min(T))\n",
    "# normalize and calculate the current posterior\n",
    "normalization_factor_posterior = np.sum((L * uniform_pdf) * 1)\n",
    "y = L * uniform_pdf / normalization_factor_posterior\n",
    "\n",
    "plt.plot(T,y,'r')\n",
    "plt.xlabel(\"T\")\n",
    "plt.ylabel(\"p(T|v)\")\n",
    "plt.title(\"The pdf of posterior p(T|v)\")\n",
    "\n",
    "plt.show()\n",
    "\n",
    "print(\"T can be inferred to have the probability density distribution as shown in the plot above.\")"
   ]
  },
  {
   "cell_type": "markdown",
   "metadata": {},
   "source": [
    "__b)__ What is the 95\\% credibility region for your inferred $T$?"
   ]
  },
  {
   "cell_type": "code",
   "execution_count": 4,
   "metadata": {},
   "outputs": [
    {
     "name": "stdout",
     "output_type": "stream",
     "text": [
      "The 95 % credibility region for the inferred T spans the range T = 71.0 to T = 2641.0\n"
     ]
    }
   ],
   "source": [
    "## Your answer here\n",
    "\n",
    "# the code was copied and modified from Coding Lab 05\n",
    "# calculate the cdf from array y\n",
    "i=1\n",
    "cdf_y = np.copy(y)\n",
    "for e in range(len(cdf_y)-1):\n",
    "    cdf_y[i]=cdf_y[i]+cdf_y[i-1]\n",
    "    i+=1 \n",
    "cdf_y = cdf_y / max(cdf_y)\n",
    "\n",
    "# calculate the credibility region\n",
    "def what_is_x_when_y_is(input, x, y):\n",
    "    return x[y.searchsorted(input, 'left')]\n",
    "def credible_region(input,x,y):\n",
    "    n=input/100\n",
    "    n1=0.5-n/2\n",
    "    n2=0.5+n/2\n",
    "    x1= what_is_x_when_y_is(n1, x, y)\n",
    "    x2= what_is_x_when_y_is(n2, x, y)\n",
    "    print(\"The\",input,\"% credibility region for the inferred T spans the range T =\",x1,\"to T =\",x2)\n",
    "\n",
    "credible_region(95,T,cdf_y)"
   ]
  },
  {
   "cell_type": "markdown",
   "metadata": {},
   "source": [
    "__c)__ You take a few more measurements: $v=(30, 28.5, 18, 15, 20, 20)$. Update your knowledge of $T$, stating your assumptions."
   ]
  },
  {
   "cell_type": "code",
   "execution_count": 5,
   "metadata": {},
   "outputs": [
    {
     "data": {
      "image/png": "[encoded data removed]",
      "text/plain": [
       "<Figure size 432x288 with 1 Axes>"
      ]
     },
     "metadata": {
      "needs_background": "light"
     },
     "output_type": "display_data"
    },
    {
     "name": "stdout",
     "output_type": "stream",
     "text": [
      "My assumption is that the peak of the probability density distribution of the inferred T become sharper with more measurements of V.\n"
     ]
    }
   ],
   "source": [
    "## Your answer here\n",
    "\n",
    "# the code was copied and modified from Coding Lab 05\n",
    "data = np.array([30,28.5,18,15,20,20])\n",
    "# define the L_update to be the updated likelihood values, L_update = L initially\n",
    "L_update = np.copy(L)\n",
    "\n",
    "for i in range(6):\n",
    "    # multiply L by the likelihood at the i_th data point\n",
    "    L_update = L_update * likelihood(data[i], T)\n",
    "    # normalize and calculate the current posterior\n",
    "    normalization_factor_posterior = np.sum((L_update * uniform_pdf) * 1)\n",
    "    y = L_update * uniform_pdf / normalization_factor_posterior\n",
    "    if i == 0:\n",
    "        plt.plot(T,y,'black',label=\"1 more measurement\")\n",
    "    if i == 1:\n",
    "        plt.plot(T,y,'g',label=\"2 more measurements\")\n",
    "    if i == 2:\n",
    "        plt.plot(T,y,'b',label=\"3 more measurements\")\n",
    "    if i == 3:\n",
    "        plt.plot(T,y,'purple',label=\"4 more measurements\")\n",
    "    if i == 4:\n",
    "        plt.plot(T,y,'orange',label=\"5 more measurements\")\n",
    "    if i == 5:\n",
    "        plt.plot(T,y,'r',label=\"6 more measurements\")\n",
    "\n",
    "plt.plot(T,y,'r')\n",
    "plt.xlabel(\"T\")\n",
    "plt.ylabel(\"p(T|v)\")\n",
    "plt.title(\"The pdf of posterior p(T|v)\")\n",
    "plt.legend(loc='best')\n",
    "plt.show()\n",
    "\n",
    "print(\"My assumption is that the peak of the probability density distribution of the inferred T become sharper with more measurements of V.\")"
   ]
  },
  {
   "cell_type": "markdown",
   "metadata": {},
   "source": [
    "__d)__ Prof. Mxyptlk says \"ok, ok, but you had to know the mass of the gas. If you didn't know $m$ separately and had to infer $m$ and $T$ simultaneously, you wouldn't get a nice well-defined peak in your probability distribution for $v$. You'd basically find that any value of $T$ is possible.\" Do you agree with Prof. Mxyptlk?\n",
    "\n",
    "* If you agree, explain why and give an example of a probability distribution where reasonable simultaneous constraints on $v$ and $T$ are still possible (i.e., imagine you have the ability to modify the laws of nature to slightly modify the Maxwell-Boltzmann distribution).\n",
    "* If you disagree, explain why Prof. Mxyptlk is incorrect.\n"
   ]
  },
  {
   "cell_type": "markdown",
   "metadata": {},
   "source": [
    "## Your answer here\n",
    "\n",
    "I disagree with this statement. If we do not know the value of m, we can infer $\\frac{m}{T}$ as a random variable here instead of T. In such case, we can still get a nice well-defined peak in the probability density distribution for the inferred $\\frac{m}{T}$. Then, based on this distribution and physical constraints for m (for example, m > 0), there will be constraints on T. Therefore, it is not true that any value of T is possible."
   ]
  },
  {
   "cell_type": "markdown",
   "metadata": {},
   "source": [
    "## Question 6"
   ]
  },
  {
   "cell_type": "markdown",
   "metadata": {},
   "source": [
    "Kevin likes dumplings. He goes to inspect a dumpling factory, where they claim that the length of their dumplings $L$ is Gaussian distributed with mean $4\\,\\textrm{cm}$ and a standard deviation of $1\\,\\textrm{cm}$. Kevin randomly selects $10$ dumplings and measures their lengths, obtaining\n",
    "\n",
    "$L = (5.61, 2.22, 3.11, 6.01, 4.79, 3.70, 2.67, 3.90, 3.86, 3.48)\\,\\textrm{cm}$\n",
    "\n"
   ]
  },
  {
   "cell_type": "markdown",
   "metadata": {},
   "source": [
    "__a)__ Use Bayesian inference to infer the posterior distribution for the mean and standard deviation of dumpling size at this factory. Display your results graphically."
   ]
  },
  {
   "cell_type": "code",
   "execution_count": 6,
   "metadata": {},
   "outputs": [
    {
     "data": {
      "image/png": "[encoded data removed]",
      "text/plain": [
       "<Figure size 432x288 with 1 Axes>"
      ]
     },
     "metadata": {
      "needs_background": "light"
     },
     "output_type": "display_data"
    }
   ],
   "source": [
    "## Your answer here\n",
    "\n",
    "# the code was copied and modified from Coding Lab 05\n",
    "from scipy.stats import norm\n",
    "\n",
    "# defined the likelihood for Maxwell-Boltzmann distribution\n",
    "def likelihood_normal(x, mean, std):\n",
    "    return norm.pdf(x, mean, std)\n",
    "\n",
    "data = np.array([5.61,2.22,3.11,6.01,4.79,3.70,2.67,3.90,3.86,3.48])\n",
    "N = len(data)\n",
    "\n",
    "mean_range = np.linspace(2,6,400)\n",
    "std_range = np.linspace(0.1,2,190)\n",
    "mean = np.array([mean_range,]*len(std_range))\n",
    "std = np.array([std_range,]*len(mean_range)).transpose()\n",
    "# inverse the array for better visualization\n",
    "std = np.flip(std, 0)\n",
    "# define the L_normal as an matrix of likelihood values, all equal to one initially\n",
    "L_normal = np.full(shape=(len(std_range), len(mean_range)), fill_value=1.)\n",
    "\n",
    "for i in range(N):\n",
    "    # multiply L by the likelihood at the i_th data point\n",
    "    L_normal = L_normal * likelihood_normal(data[i], mean, std)\n",
    "    # assuming a multivariate uniform prior distribution for mean and variance\n",
    "    prior_pdf = 1 / (max(mean_range)-min(mean_range)) / (max(std_range)-min(std_range))\n",
    "    # normalize and calculate the current posterior\n",
    "    normalization_factor_posterior = np.sum((L_normal * prior_pdf) * 0.1 * 0.1)\n",
    "    y = L_normal * prior_pdf / normalization_factor_posterior\n",
    "\n",
    "plt.imshow(y, cmap='hot',extent=[2,6,0.1,2])\n",
    "plt.xlabel(r\"$\\mu$\")\n",
    "plt.ylabel(r\"$\\sigma$\")\n",
    "plt.title(r\"The joint pdf of posterior $p(\\mu, \\sigma|L)$\")\n",
    "\n",
    "plt.show()"
   ]
  },
  {
   "cell_type": "markdown",
   "metadata": {},
   "source": [
    "__b)__ What Kevin really cares about is consistency. It doesn't really matter to him whether the dumplings are big or small. What's unacceptable to him is a standard deviation that's larger than $1\\,\\textrm{cm}$. Should Kevin be worried? Make your argument in a quantitative manner."
   ]
  },
  {
   "cell_type": "code",
   "execution_count": 7,
   "metadata": {},
   "outputs": [
    {
     "name": "stdout",
     "output_type": "stream",
     "text": [
      "There is 78 % possibility that the standard deviation is larger than 1cm.\n",
      "Therefore, Kevin should be worried.\n"
     ]
    }
   ],
   "source": [
    "## Your answer here\n",
    "\n",
    "# the code was copied and modified from Coding Lab 05\n",
    "# calculate the marginal distribution of the standard deviation from the joint distribution\n",
    "marginal_std = y.sum(axis=1)\n",
    "marginal_std = np.flip(marginal_std, 0)\n",
    "\n",
    "# calculate the cdf of the maginal distribution of the standard deviation\n",
    "i=1\n",
    "cdf_std = np.copy(marginal_std)\n",
    "for e in range(len(cdf_std)-1):\n",
    "    cdf_std[i]=cdf_std[i]+cdf_std[i-1]\n",
    "    i+=1 \n",
    "cdf_std = cdf_std / max(cdf_std)\n",
    "\n",
    "# calculate the credibility region at given level\n",
    "def what_is_x_when_y_is(input, x, y):\n",
    "    return x[y.searchsorted(input, 'left')]\n",
    "def credible_region_lower_bound(input,x,y):\n",
    "    n=input/100\n",
    "    n1=0.5-n/2\n",
    "    n2=0.5+n/2\n",
    "    x1= what_is_x_when_y_is(n1, x, y)\n",
    "    x2= what_is_x_when_y_is(n2, x, y)\n",
    "    return x1\n",
    "\n",
    "# search the largest credibility region to exclude x = 1\n",
    "for i in range(1, 101):\n",
    "    p = credible_region_lower_bound(i,std_range,cdf_std)\n",
    "    if (p<1):\n",
    "        print(\"There is\",i,\"% possibility that the standard deviation is larger than 1cm.\")\n",
    "        break\n",
    "        \n",
    "print(\"Therefore, Kevin should be worried.\")"
   ]
  },
  {
   "cell_type": "markdown",
   "metadata": {},
   "source": [
    "## Ungraded question"
   ]
  },
  {
   "cell_type": "markdown",
   "metadata": {},
   "source": [
    "I would like to tailor the last part of the course to your interests. Please fill out [this](https://forms.gle/BFJMx8HEnfQjjbuC9) anonymous survey to help me with that. This is not a graded part of your midterm, but now is just a convenient time to do it."
   ]
  },
  {
   "cell_type": "markdown",
   "metadata": {},
   "source": [
    "## Submission"
   ]
  },
  {
   "cell_type": "markdown",
   "metadata": {},
   "source": [
    "You're done! Do a final git commit, taking care to include everything relevant (e.g., if you have any embedded images). If you decide to revise your answers before the deadline, no problem---just make the changes you want to make and resubmit your work. Push your work to your repo."
   ]
  },
  {
   "cell_type": "code",
   "execution_count": null,
   "metadata": {},
   "outputs": [],
   "source": []
  }
 ],
 "metadata": {
  "kernelspec": {
   "display_name": "Python 3",
   "language": "python",
   "name": "python3"
  },
  "language_info": {
   "codemirror_mode": {
    "name": "ipython",
    "version": 3
   },
   "file_extension": ".py",
   "mimetype": "text/x-python",
   "name": "python",
   "nbconvert_exporter": "python",
   "pygments_lexer": "ipython3",
   "version": "3.8.5"
  }
 },
 "nbformat": 4,
 "nbformat_minor": 4
}
